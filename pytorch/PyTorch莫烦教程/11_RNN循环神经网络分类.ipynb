{
 "cells": [
  {
   "cell_type": "code",
   "execution_count": 44,
   "metadata": {
    "collapsed": true
   },
   "outputs": [],
   "source": [
    "import torch\n",
    "import torch.nn.functional as F\n",
    "from torch.autograd import Variable\n",
    "from torch import nn\n",
    "import torchvision.transforms as transforms\n",
    "import torchvision.datasets as dsets\n",
    "import matplotlib.pyplot as plt\n",
    "import os\n",
    "\n",
    "%matplotlib inline"
   ]
  },
  {
   "cell_type": "code",
   "execution_count": 45,
   "metadata": {
    "collapsed": true
   },
   "outputs": [],
   "source": [
    "# 超参数设置\n",
    "EPOCH = 1\n",
    "BATCH_SIZE = 64\n",
    "TIME_STEP = 28\n",
    "INPUT_SIZE = 28\n",
    "LR = 0.01\n",
    "DOWNLOAD_MNIST = False"
   ]
  },
  {
   "cell_type": "code",
   "execution_count": 46,
   "metadata": {},
   "outputs": [
    {
     "name": "stdout",
     "output_type": "stream",
     "text": [
      "train训练集大小:  torch.Size([60000, 28, 28])\n",
      "train标签大小:  torch.Size([60000])\n"
     ]
    },
    {
     "data": {
      "image/png": "[encoded data removed]",
      "text/plain": [
       "<matplotlib.figure.Figure at 0x7f69ce633c18>"
      ]
     },
     "metadata": {},
     "output_type": "display_data"
    }
   ],
   "source": [
    "path = os.path.join(\".\", \"datasets/mnists\")\n",
    "train_data = dsets.MNIST(\n",
    "    path, \n",
    "    train=True, \n",
    "    transform=transforms.ToTensor(),   # 转换 PIL.Image or numpy.ndarray成 torch.FloatTensor of shape (n_c x n_h x n_w) and normalize in the range [0.0, 1.0] \n",
    "    download=DOWNLOAD_MNIST\n",
    ") \n",
    "\n",
    "print(\"train训练集大小: \", train_data.train_data.size()) \n",
    "print(\"train标签大小: \", train_data.train_labels.size())   \n",
    "# 显示其中的一个样本\n",
    "plt.imshow(train_data.train_data[0].numpy(), cmap=\"gray\")\n",
    "plt.title(\"%i\" % train_data.train_labels[0]);"
   ]
  },
  {
   "cell_type": "code",
   "execution_count": 47,
   "metadata": {
    "collapsed": true
   },
   "outputs": [],
   "source": [
    "train_loader = torch.utils.data.DataLoader(dataset=train_data, batch_size=BATCH_SIZE, shuffle=True)\n",
    "test_data = dsets.MNIST(path, train=False, transform=transforms.ToTensor())\n",
    "test_x = test_data.test_data.type(torch.FloatTensor)[:20000]/255\n",
    "test_y = test_data.test_labels.numpy()[:20000]\n",
    "\n"
   ]
  },
  {
   "cell_type": "code",
   "execution_count": 48,
   "metadata": {},
   "outputs": [
    {
     "data": {
      "text/plain": [
       "RNN(\n",
       "  (rnn): LSTM(28, 64, batch_first=True)\n",
       "  (output): Linear(in_features=64, out_features=10, bias=True)\n",
       ")"
      ]
     },
     "execution_count": 48,
     "metadata": {},
     "output_type": "execute_result"
    }
   ],
   "source": [
    "class RNN(nn.Module):\n",
    "    def __init__(self):\n",
    "        super(RNN, self).__init__()\n",
    "        self.rnn = nn.LSTM(\n",
    "            input_size = 28, # 图片每行的数据像素点\n",
    "            hidden_size = 64, # rnn hidden unit\n",
    "            num_layers = 1, # 有几层 RNN layers\n",
    "            batch_first = True, # input & output 会是以 batch size 为第一维度的特征集 e.g. (batch, time_step, input_size)\n",
    "        ) # LSTM 效果要比 nn.RNN() 好多了\n",
    "        self.output = nn.Linear(64, 10)  # 输出层\n",
    "        \n",
    "    def forward(self, x):\n",
    "        r_out, (h_n, h_c) = self.rnn(x, None)  # None 表示 hidden state 会用全0的 state\n",
    "        # 选取最后一个时间点的 r_out 输出\n",
    "        # 这里 r_out[:, -1, :] 的值也是 h_n 的值\n",
    "        out = self.output(r_out[:, -1, :])\n",
    "        return out\n",
    "        \n",
    "rnn = RNN()\n",
    "rnn"
   ]
  },
  {
   "cell_type": "code",
   "execution_count": 49,
   "metadata": {
    "collapsed": true
   },
   "outputs": [],
   "source": [
    "# 定义优化器\n",
    "optimizers = torch.optim.Adam(rnn.parameters(), lr=LR)\n",
    "loss_func = nn.CrossEntropyLoss()"
   ]
  },
  {
   "cell_type": "code",
   "execution_count": 50,
   "metadata": {},
   "outputs": [
    {
     "name": "stdout",
     "output_type": "stream",
     "text": [
      "经过0次训练后，train上的loss值是:2.3033, 测试集上的精度是:0.10\n",
      "经过50次训练后，train上的loss值是:1.1740, 测试集上的精度是:0.68\n",
      "经过100次训练后，train上的loss值是:0.6985, 测试集上的精度是:0.76\n",
      "经过150次训练后，train上的loss值是:0.5847, 测试集上的精度是:0.86\n",
      "经过200次训练后，train上的loss值是:0.5073, 测试集上的精度是:0.89\n",
      "经过250次训练后，train上的loss值是:0.3764, 测试集上的精度是:0.90\n",
      "经过300次训练后，train上的loss值是:0.3147, 测试集上的精度是:0.92\n",
      "经过350次训练后，train上的loss值是:0.2273, 测试集上的精度是:0.92\n",
      "经过400次训练后，train上的loss值是:0.2136, 测试集上的精度是:0.93\n",
      "经过450次训练后，train上的loss值是:0.2066, 测试集上的精度是:0.94\n",
      "经过500次训练后，train上的loss值是:0.2148, 测试集上的精度是:0.95\n",
      "经过550次训练后，train上的loss值是:0.2961, 测试集上的精度是:0.94\n",
      "经过600次训练后，train上的loss值是:0.1678, 测试集上的精度是:0.96\n",
      "经过650次训练后，train上的loss值是:0.1117, 测试集上的精度是:0.96\n",
      "经过700次训练后，train上的loss值是:0.3467, 测试集上的精度是:0.95\n",
      "经过750次训练后，train上的loss值是:0.3730, 测试集上的精度是:0.95\n",
      "经过800次训练后，train上的loss值是:0.0663, 测试集上的精度是:0.96\n",
      "经过850次训练后，train上的loss值是:0.1001, 测试集上的精度是:0.96\n",
      "经过900次训练后，train上的loss值是:0.1253, 测试集上的精度是:0.96\n"
     ]
    }
   ],
   "source": [
    "# 训练\n",
    "for epoch in range(EPOCH):\n",
    "    for step, (batch_x, batch_y) in enumerate(train_loader):\n",
    "        batch_x = batch_x.view(-1, 28, 28)  # reshape x to (batch, time_step, input_size)\n",
    "        output = rnn(batch_x)\n",
    "        loss = loss_func(output, batch_y)\n",
    "        optimizers.zero_grad()\n",
    "        loss.backward()\n",
    "        optimizers.step()\n",
    "        if step % 50 == 0:\n",
    "            test_output = rnn(test_x)\n",
    "            pred_y = torch.max(test_output, 1)[1].data.numpy()\n",
    "            acc = float((pred_y == test_y).astype(int).sum()) / float(test_y.size)\n",
    "            print(\"经过%d次训练后，train上的loss值是:%.4f, 测试集上的精度是:%.2f\" % (step, loss.data.numpy(), acc))\n",
    "\n",
    "\n"
   ]
  },
  {
   "cell_type": "code",
   "execution_count": 51,
   "metadata": {},
   "outputs": [
    {
     "name": "stdout",
     "output_type": "stream",
     "text": [
      "预测数字:  [7 2 1 0 4 1 4 9 6 9]\n",
      "真实数字:  [7 2 1 0 4 1 4 9 5 9]\n"
     ]
    }
   ],
   "source": [
    "# 在测试集上的效果\n",
    "test_output = rnn(test_x[:10].view(-1, 28, 28))\n",
    "pred_y = torch.max(test_output, 1)[1].data.numpy()\n",
    "print(\"预测数字: \", pred_y)\n",
    "print(\"真实数字: \", test_y[:10])"
   ]
  },
  {
   "cell_type": "code",
   "execution_count": null,
   "metadata": {
    "collapsed": true
   },
   "outputs": [],
   "source": []
  }
 ],
 "metadata": {
  "kernelspec": {
   "display_name": "Python 3",
   "language": "python",
   "name": "python3"
  },
  "language_info": {
   "codemirror_mode": {
    "name": "ipython",
    "version": 3
   },
   "file_extension": ".py",
   "mimetype": "text/x-python",
   "name": "python",
   "nbconvert_exporter": "python",
   "pygments_lexer": "ipython3",
   "version": "3.5.4"
  }
 },
 "nbformat": 4,
 "nbformat_minor": 2
}
