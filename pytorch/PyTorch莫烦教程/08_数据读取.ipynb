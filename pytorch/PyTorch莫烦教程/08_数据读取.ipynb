{
 "cells": [
  {
   "cell_type": "code",
   "execution_count": 2,
   "metadata": {
    "collapsed": true
   },
   "outputs": [],
   "source": [
    "import torch\n",
    "from torch.nn import functional as F\n",
    "from torch.autograd import Variable\n",
    "import torch.utils.data as Data"
   ]
  },
  {
   "cell_type": "markdown",
   "metadata": {},
   "source": [
    "* DataLoader是torch 给你用来包装你的数据的工具. 所以你要将自己的 (numpy array 或其他) 数据形式装换成 Tensor, 然后再放进这个包装器中. 使用 DataLoader  有什么好处呢? 就是它们帮你有效地迭代数据"
   ]
  },
  {
   "cell_type": "code",
   "execution_count": 3,
   "metadata": {},
   "outputs": [
    {
     "data": {
      "text/plain": [
       "<torch._C.Generator at 0x7fca7a808c70>"
      ]
     },
     "execution_count": 3,
     "metadata": {},
     "output_type": "execute_result"
    }
   ],
   "source": [
    "torch.manual_seed(1)"
   ]
  },
  {
   "cell_type": "code",
   "execution_count": 15,
   "metadata": {},
   "outputs": [
    {
     "name": "stdout",
     "output_type": "stream",
     "text": [
      "Epoch:  0\n",
      "Step:  0\n",
      "batch_x:  [ 2.  7.  3.  8.  4.]\n",
      "batch_y:  [ 9.  4.  8.  3.  7.]\n",
      "Epoch:  0\n",
      "Step:  1\n",
      "batch_x:  [  1.   6.   5.   9.  10.]\n",
      "batch_y:  [ 10.   5.   6.   2.   1.]\n",
      "Epoch:  1\n",
      "Step:  0\n",
      "batch_x:  [ 4.  9.  8.  5.  1.]\n",
      "batch_y:  [  7.   2.   3.   6.  10.]\n",
      "Epoch:  1\n",
      "Step:  1\n",
      "batch_x:  [  7.   3.   2.  10.   6.]\n",
      "batch_y:  [ 4.  8.  9.  1.  5.]\n",
      "Epoch:  2\n",
      "Step:  0\n",
      "batch_x:  [  1.  10.   8.   6.   2.]\n",
      "batch_y:  [ 10.   1.   3.   5.   9.]\n",
      "Epoch:  2\n",
      "Step:  1\n",
      "batch_x:  [ 7.  5.  9.  3.  4.]\n",
      "batch_y:  [ 4.  6.  2.  8.  7.]\n"
     ]
    }
   ],
   "source": [
    "BATCH_SIZE = 5   # 批训练的数据个数\n",
    "\n",
    "x = torch.linspace(1, 10, 10)\n",
    "y = torch.linspace(10, 1, 10)\n",
    "# 先转换成 torch 能识别的 Dataset\n",
    "torch_dataset = Data.TensorDataset(x, y)\n",
    "# 把 dataset 放入 DataLoader\n",
    "loader = Data.DataLoader(dataset=torch_dataset,    # torch TensorDataset format\n",
    "                         batch_size=BATCH_SIZE,     # mini batch size\n",
    "                         shuffle=True,    # 要不要打乱数据 (打乱比较好)\n",
    "                         num_workers=2,   # 多线程来读数据\n",
    "                        )\n",
    "for epoch in range(3):  # 训练所有!整套!数据 3 次\n",
    "    for step, (batch_x, batch_y) in enumerate(loader):  # 每一步 loader 释放一小批数据用来学习\n",
    "        \"\"\"\n",
    "        假设这里就是你训练的地方\n",
    "        \"\"\"\n",
    "        print(\"Epoch: \", epoch)\n",
    "        print(\"Step: \", step)\n",
    "        print(\"batch_x: \", batch_x.numpy())\n",
    "        print(\"batch_y: \", batch_y.numpy())\n",
    "\n"
   ]
  },
  {
   "cell_type": "markdown",
   "metadata": {},
   "source": [
    "* 可以看出, 每步都导出了5个数据进行学习. 然后每遍历epoch一次数据集，导出的数据都是先打乱了以后再导出.\n",
    "* 真正方便的还不是这点. 如果我们改变一下 BATCH_SIZE = 8 , 这样我们就知道, step=0  会导出8个数据, 但是, step=1  时数据库中的数据不够 8个, 这时怎么办呢: 这时, 在 step=1  就只给你返回这个 epoch 中剩下的数据就好了."
   ]
  },
  {
   "cell_type": "code",
   "execution_count": 21,
   "metadata": {},
   "outputs": [
    {
     "name": "stdout",
     "output_type": "stream",
     "text": [
      "Epoch:  0\n",
      "Step:  0\n",
      "batch_x:  [ 9.  8.  3.  5.  1.]\n",
      "batch_y:  [  2.   3.   8.   6.  10.]\n",
      "======================================\n",
      "Epoch:  0\n",
      "Step:  1\n",
      "batch_x:  [  7.   4.  10.   6.   2.]\n",
      "batch_y:  [ 4.  7.  1.  5.  9.]\n",
      "======================================\n",
      "**********************************************************\n",
      "Epoch:  1\n",
      "Step:  0\n",
      "batch_x:  [ 3.  1.  7.  6.  8.]\n",
      "batch_y:  [  8.  10.   4.   5.   3.]\n",
      "======================================\n",
      "Epoch:  1\n",
      "Step:  1\n",
      "batch_x:  [ 10.   2.   5.   4.   9.]\n",
      "batch_y:  [ 1.  9.  6.  7.  2.]\n",
      "======================================\n",
      "**********************************************************\n",
      "Epoch:  2\n",
      "Step:  0\n",
      "batch_x:  [ 5.  4.  1.  7.  2.]\n",
      "batch_y:  [  6.   7.  10.   4.   9.]\n",
      "======================================\n",
      "Epoch:  2\n",
      "Step:  1\n",
      "batch_x:  [  8.   6.   9.   3.  10.]\n",
      "batch_y:  [ 3.  5.  2.  8.  1.]\n",
      "======================================\n",
      "**********************************************************\n"
     ]
    }
   ],
   "source": [
    "BATCH_SIZE = 8\n",
    "for epoch in range(3):\n",
    "    for step, (batch_x, batch_y) in enumerate(loader):\n",
    "        \"\"\"\n",
    "        假设这里就是你训练的地方\n",
    "        \"\"\"\n",
    "        print(\"Epoch: \", epoch)\n",
    "        print(\"Step: \", step)\n",
    "        print(\"batch_x: \", batch_x.numpy())\n",
    "        print(\"batch_y: \", batch_y.numpy())\n",
    "    \n",
    "    print(\"**********************************************************\")\n"
   ]
  },
  {
   "cell_type": "code",
   "execution_count": null,
   "metadata": {
    "collapsed": true
   },
   "outputs": [],
   "source": []
  }
 ],
 "metadata": {
  "kernelspec": {
   "display_name": "Python 3",
   "language": "python",
   "name": "python3"
  },
  "language_info": {
   "codemirror_mode": {
    "name": "ipython",
    "version": 3
   },
   "file_extension": ".py",
   "mimetype": "text/x-python",
   "name": "python",
   "nbconvert_exporter": "python",
   "pygments_lexer": "ipython3",
   "version": "3.5.4"
  }
 },
 "nbformat": 4,
 "nbformat_minor": 2
}
