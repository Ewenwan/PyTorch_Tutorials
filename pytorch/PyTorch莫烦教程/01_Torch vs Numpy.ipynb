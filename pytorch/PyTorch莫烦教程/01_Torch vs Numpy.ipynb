{
 "cells": [
  {
   "cell_type": "code",
   "execution_count": 15,
   "metadata": {
    "collapsed": true
   },
   "outputs": [],
   "source": [
    "import numpy as np\n",
    "import torch"
   ]
  },
  {
   "cell_type": "code",
   "execution_count": 2,
   "metadata": {},
   "outputs": [
    {
     "data": {
      "text/plain": [
       "'0.4.1'"
      ]
     },
     "execution_count": 2,
     "metadata": {},
     "output_type": "execute_result"
    }
   ],
   "source": [
    "torch.__version__"
   ]
  },
  {
   "cell_type": "code",
   "execution_count": 3,
   "metadata": {},
   "outputs": [
    {
     "data": {
      "text/plain": [
       "'1.13.3'"
      ]
     },
     "execution_count": 3,
     "metadata": {},
     "output_type": "execute_result"
    }
   ],
   "source": [
    "np.__version__"
   ]
  },
  {
   "cell_type": "markdown",
   "metadata": {},
   "source": [
    "### 1.numpy vs torch\n",
    "* Torch 自称为神经网络界的 Numpy, 因为他能将 torch 产生的 tensor 放在 GPU 中加速运算 (前提是你有合适的 GPU), 就像 Numpy 会把 array 放在 CPU 中加速运算. 所以神经网络的话, 当然是用 Torch 的 tensor 形式数据最好咯. 就像 Tensorflow 当中的 tensor 一样.\n",
    "* numpy array 和 torch tensor之间的自由转换"
   ]
  },
  {
   "cell_type": "code",
   "execution_count": 7,
   "metadata": {},
   "outputs": [
    {
     "name": "stdout",
     "output_type": "stream",
     "text": [
      "np_data:\n",
      " [[0 1 2]\n",
      " [3 4 5]] \n",
      "torch_data:\n",
      " tensor([[0, 1, 2],\n",
      "        [3, 4, 5]]) \n",
      "tensor2_array:\n",
      " [[0 1 2]\n",
      " [3 4 5]]\n"
     ]
    }
   ],
   "source": [
    "np_data = np.arange(6).reshape((2, 3))\n",
    "torch_data = torch.from_numpy(np_data)\n",
    "tensor2_array = torch_data.numpy()\n",
    "print(\n",
    "    \"np_data:\\n\",np_data,\n",
    "    \"\\ntorch_data:\\n\", torch_data,\n",
    "    \"\\ntensor2_array:\\n\", tensor2_array,\n",
    ")"
   ]
  },
  {
   "cell_type": "markdown",
   "metadata": {},
   "source": [
    "### 2.torch中的数学运算\n",
    "* torch 中 tensor 的运算和 numpy array 的如出一辙,详见中文文档"
   ]
  },
  {
   "cell_type": "code",
   "execution_count": 16,
   "metadata": {},
   "outputs": [
    {
     "name": "stdout",
     "output_type": "stream",
     "text": [
      "abs \n",
      "numpy: [1 2 1 2] \n",
      "torch: tensor([1., 2., 1., 2.])\n",
      "sin \n",
      "numpy: [-0.84147098 -0.90929743  0.84147098  0.90929743] \n",
      "torch: tensor([-0.8415, -0.9093,  0.8415,  0.9093])\n",
      "mean \n",
      "numpy: 0.0 \n",
      "torch: tensor(0.)\n"
     ]
    }
   ],
   "source": [
    "# abs运算\n",
    "data = [-1, -2, 1, 2]\n",
    "tensor = torch.FloatTensor(data) # 转换成32位浮点 tensor\n",
    "print(\n",
    "    \"abs\",\n",
    "    \"\\nnumpy:\", np.abs(data),\n",
    "    \"\\ntorch:\", torch.abs(tensor),\n",
    ")\n",
    "\n",
    "# sin\n",
    "print(\n",
    "    \"sin\",\n",
    "    \"\\nnumpy:\", np.sin(data),\n",
    "    \"\\ntorch:\", torch.sin(tensor),\n",
    ")\n",
    "# mean()\n",
    "print(\n",
    "    \"mean\",\n",
    "    \"\\nnumpy:\", np.mean(data),\n",
    "    \"\\ntorch:\", torch.mean(tensor),\n",
    ")"
   ]
  },
  {
   "cell_type": "markdown",
   "metadata": {},
   "source": [
    "* 除了简单的计算, 矩阵运算才是神经网络中最重要的部分. 所以我们展示下矩阵的乘法. 注意以下 ** 包含了一个 numpy 中可行, 但是 torch 中不可行的方式 **."
   ]
  },
  {
   "cell_type": "code",
   "execution_count": 22,
   "metadata": {},
   "outputs": [
    {
     "name": "stdout",
     "output_type": "stream",
     "text": [
      "矩阵点乘matmul \n",
      "numpy:\n",
      " [[ 7 10]\n",
      " [15 22]] \n",
      "torch:\n",
      " tensor([[ 7., 10.],\n",
      "        [15., 22.]])\n",
      "矩阵点乘dot \n",
      "numpy:\n",
      " [[ 7 10]\n",
      " [15 22]]\n"
     ]
    }
   ],
   "source": [
    "# matrix multiplication 矩阵点乘\n",
    "data = [[1, 2], [3, 4]]\n",
    "tensor = torch.FloatTensor(data)  # 转换成32位浮点 tensor\n",
    "# 正确方式\n",
    "print(\n",
    "    \"矩阵点乘matmul\",\n",
    "    \"\\nnumpy:\\n\", np.matmul(data, data),\n",
    "    \"\\ntorch:\\n\", torch.mm(tensor, tensor),\n",
    ")\n",
    "# !!!!  下面是错误的方法 !!!!\n",
    "data = np.array(data)\n",
    "print(\n",
    "    \"矩阵点乘dot\",\n",
    "    \"\\nnumpy:\\n\", data.dot(data),  # [[7, 10], [15, 22]] 在numpy 中可行\n",
    "   # \"\\ntorch:\\n\", tensor.dot(tensor),  # # torch 会转换成 [1,2,3,4].dot([1,2,3,4) = 30.0\n",
    ")"
   ]
  },
  {
   "cell_type": "code",
   "execution_count": null,
   "metadata": {
    "collapsed": true
   },
   "outputs": [],
   "source": []
  }
 ],
 "metadata": {
  "kernelspec": {
   "display_name": "Python 3",
   "language": "python",
   "name": "python3"
  },
  "language_info": {
   "codemirror_mode": {
    "name": "ipython",
    "version": 3
   },
   "file_extension": ".py",
   "mimetype": "text/x-python",
   "name": "python",
   "nbconvert_exporter": "python",
   "pygments_lexer": "ipython3",
   "version": "3.5.4"
  }
 },
 "nbformat": 4,
 "nbformat_minor": 2
}
